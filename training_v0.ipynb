{
 "cells": [
  {
   "cell_type": "code",
   "execution_count": 1,
   "metadata": {},
   "outputs": [],
   "source": [
    "import gymnasium as gym\n",
    "from sb3_contrib import TRPO\n",
    "from stable_baselines3.common.env_util import make_vec_env\n",
    "\n",
    "# Import your custom environment\n",
    "from lv_letter_env import LoveLetterEnv  # Replace with your actual environment"
   ]
  },
  {
   "cell_type": "code",
   "execution_count": null,
   "metadata": {},
   "outputs": [],
   "source": [
    "def train_trpo():\n",
    "    # Create the environment\n",
    "    env = make_vec_env(lambda: LoveLetterEnv(), n_envs=1)\n",
    "\n",
    "    # Initialize the TRPO model\n",
    "    model = TRPO(\n",
    "        \"MultiInputPolicy\",  # Use a multi-layer perceptron (MLP) policy\n",
    "        env,\n",
    "        verbose=1,    # Enable detailed training output\n",
    "        learning_rate=0.001,  # Adjust learning rate as needed\n",
    "        gamma=0.99,    # Discount factor for long-term rewards\n",
    "        use_sde=False,\n",
    "    )\n",
    "\n",
    "    # Train the model\n",
    "    model.learn(total_timesteps=100000)  # Adjust the number of timesteps based on computational resources\n",
    "\n",
    "    # Save the model\n",
    "    model.save(\"trpo_love_letter\")\n",
    "\n",
    "    print(\"Training complete. Model saved as 'trpo_love_letter'.\")\n"
   ]
  },
  {
   "cell_type": "code",
   "execution_count": 3,
   "metadata": {},
   "outputs": [],
   "source": [
    "def train_ppo():\n",
    "    # Create the environment\n",
    "    env = make_vec_env(lambda: LoveLetterEnv(), n_envs=1)\n",
    "\n",
    "    # Initialize the PPO model\n",
    "    model = PPO(\n",
    "        \"MlpPolicy\",  # Use a multi-layer perceptron (MLP) policy\n",
    "        env,\n",
    "        verbose=1,    # Enable detailed training output\n",
    "        learning_rate=0.0003,  # Default learning rate for PPO\n",
    "        gamma=0.99,    # Discount factor for long-term rewards\n",
    "        n_steps=2048,  # Number of steps to collect before updating the policy\n",
    "        batch_size=64,  # Batch size for training\n",
    "        ent_coef=0.01,  # Encourage exploration with entropy coefficient\n",
    "    )\n",
    "\n",
    "    # Train the model\n",
    "    model.learn(total_timesteps=100000)  # Adjust timesteps as needed\n",
    "\n",
    "    # Save the model\n",
    "    model.save(\"ppo_love_letter\")\n",
    "\n",
    "    print(\"Training complete. Model saved as 'ppo_love_letter'.\")"
   ]
  },
  {
   "cell_type": "code",
   "execution_count": 4,
   "metadata": {},
   "outputs": [
    {
     "name": "stdout",
     "output_type": "stream",
     "text": [
      "Using cpu device\n"
     ]
    },
    {
     "ename": "ValueError",
     "evalue": "You must use `MultiInputPolicy` when working with dict observation space, not MlpPolicy",
     "output_type": "error",
     "traceback": [
      "\u001b[0;31m---------------------------------------------------------------------------\u001b[0m",
      "\u001b[0;31mValueError\u001b[0m                                Traceback (most recent call last)",
      "Cell \u001b[0;32mIn[4], line 1\u001b[0m\n\u001b[0;32m----> 1\u001b[0m train_trpo()\n",
      "Cell \u001b[0;32mIn[2], line 6\u001b[0m, in \u001b[0;36mtrain_trpo\u001b[0;34m()\u001b[0m\n\u001b[1;32m      3\u001b[0m env \u001b[38;5;241m=\u001b[39m make_vec_env(\u001b[38;5;28;01mlambda\u001b[39;00m: LoveLetterEnv(), n_envs\u001b[38;5;241m=\u001b[39m\u001b[38;5;241m1\u001b[39m)\n\u001b[1;32m      5\u001b[0m \u001b[38;5;66;03m# Initialize the TRPO model\u001b[39;00m\n\u001b[0;32m----> 6\u001b[0m model \u001b[38;5;241m=\u001b[39m TRPO(\n\u001b[1;32m      7\u001b[0m     \u001b[38;5;124m\"\u001b[39m\u001b[38;5;124mMlpPolicy\u001b[39m\u001b[38;5;124m\"\u001b[39m,  \u001b[38;5;66;03m# Use a multi-layer perceptron (MLP) policy\u001b[39;00m\n\u001b[1;32m      8\u001b[0m     env,\n\u001b[1;32m      9\u001b[0m     verbose\u001b[38;5;241m=\u001b[39m\u001b[38;5;241m1\u001b[39m,    \u001b[38;5;66;03m# Enable detailed training output\u001b[39;00m\n\u001b[1;32m     10\u001b[0m     learning_rate\u001b[38;5;241m=\u001b[39m\u001b[38;5;241m0.001\u001b[39m,  \u001b[38;5;66;03m# Adjust learning rate as needed\u001b[39;00m\n\u001b[1;32m     11\u001b[0m     gamma\u001b[38;5;241m=\u001b[39m\u001b[38;5;241m0.99\u001b[39m,    \u001b[38;5;66;03m# Discount factor for long-term rewards\u001b[39;00m\n\u001b[1;32m     12\u001b[0m )\n\u001b[1;32m     14\u001b[0m \u001b[38;5;66;03m# Train the model\u001b[39;00m\n\u001b[1;32m     15\u001b[0m model\u001b[38;5;241m.\u001b[39mlearn(total_timesteps\u001b[38;5;241m=\u001b[39m\u001b[38;5;241m100000\u001b[39m)  \u001b[38;5;66;03m# Adjust the number of timesteps based on computational resources\u001b[39;00m\n",
      "File \u001b[0;32m/opt/anaconda3/lib/python3.12/site-packages/sb3_contrib/trpo/trpo.py:110\u001b[0m, in \u001b[0;36mTRPO.__init__\u001b[0;34m(self, policy, env, learning_rate, n_steps, batch_size, gamma, cg_max_steps, cg_damping, line_search_shrinking_factor, line_search_max_iter, n_critic_updates, gae_lambda, use_sde, sde_sample_freq, rollout_buffer_class, rollout_buffer_kwargs, normalize_advantage, target_kl, sub_sampling_factor, stats_window_size, tensorboard_log, policy_kwargs, verbose, seed, device, _init_setup_model)\u001b[0m\n\u001b[1;32m     81\u001b[0m \u001b[38;5;28;01mdef\u001b[39;00m \u001b[38;5;21m__init__\u001b[39m(\n\u001b[1;32m     82\u001b[0m     \u001b[38;5;28mself\u001b[39m,\n\u001b[1;32m     83\u001b[0m     policy: Union[\u001b[38;5;28mstr\u001b[39m, Type[ActorCriticPolicy]],\n\u001b[0;32m   (...)\u001b[0m\n\u001b[1;32m    108\u001b[0m     _init_setup_model: \u001b[38;5;28mbool\u001b[39m \u001b[38;5;241m=\u001b[39m \u001b[38;5;28;01mTrue\u001b[39;00m,\n\u001b[1;32m    109\u001b[0m ):\n\u001b[0;32m--> 110\u001b[0m     \u001b[38;5;28msuper\u001b[39m()\u001b[38;5;241m.\u001b[39m\u001b[38;5;21m__init__\u001b[39m(\n\u001b[1;32m    111\u001b[0m         policy,\n\u001b[1;32m    112\u001b[0m         env,\n\u001b[1;32m    113\u001b[0m         learning_rate\u001b[38;5;241m=\u001b[39mlearning_rate,\n\u001b[1;32m    114\u001b[0m         n_steps\u001b[38;5;241m=\u001b[39mn_steps,\n\u001b[1;32m    115\u001b[0m         gamma\u001b[38;5;241m=\u001b[39mgamma,\n\u001b[1;32m    116\u001b[0m         gae_lambda\u001b[38;5;241m=\u001b[39mgae_lambda,\n\u001b[1;32m    117\u001b[0m         ent_coef\u001b[38;5;241m=\u001b[39m\u001b[38;5;241m0.0\u001b[39m,  \u001b[38;5;66;03m# entropy bonus is not used by TRPO\u001b[39;00m\n\u001b[1;32m    118\u001b[0m         vf_coef\u001b[38;5;241m=\u001b[39m\u001b[38;5;241m0.0\u001b[39m,  \u001b[38;5;66;03m# value function is optimized separately\u001b[39;00m\n\u001b[1;32m    119\u001b[0m         max_grad_norm\u001b[38;5;241m=\u001b[39m\u001b[38;5;241m0.0\u001b[39m,\n\u001b[1;32m    120\u001b[0m         use_sde\u001b[38;5;241m=\u001b[39muse_sde,\n\u001b[1;32m    121\u001b[0m         sde_sample_freq\u001b[38;5;241m=\u001b[39msde_sample_freq,\n\u001b[1;32m    122\u001b[0m         rollout_buffer_class\u001b[38;5;241m=\u001b[39mrollout_buffer_class,\n\u001b[1;32m    123\u001b[0m         rollout_buffer_kwargs\u001b[38;5;241m=\u001b[39mrollout_buffer_kwargs,\n\u001b[1;32m    124\u001b[0m         stats_window_size\u001b[38;5;241m=\u001b[39mstats_window_size,\n\u001b[1;32m    125\u001b[0m         tensorboard_log\u001b[38;5;241m=\u001b[39mtensorboard_log,\n\u001b[1;32m    126\u001b[0m         policy_kwargs\u001b[38;5;241m=\u001b[39mpolicy_kwargs,\n\u001b[1;32m    127\u001b[0m         verbose\u001b[38;5;241m=\u001b[39mverbose,\n\u001b[1;32m    128\u001b[0m         device\u001b[38;5;241m=\u001b[39mdevice,\n\u001b[1;32m    129\u001b[0m         seed\u001b[38;5;241m=\u001b[39mseed,\n\u001b[1;32m    130\u001b[0m         _init_setup_model\u001b[38;5;241m=\u001b[39m\u001b[38;5;28;01mFalse\u001b[39;00m,\n\u001b[1;32m    131\u001b[0m         supported_action_spaces\u001b[38;5;241m=\u001b[39m(\n\u001b[1;32m    132\u001b[0m             spaces\u001b[38;5;241m.\u001b[39mBox,\n\u001b[1;32m    133\u001b[0m             spaces\u001b[38;5;241m.\u001b[39mDiscrete,\n\u001b[1;32m    134\u001b[0m             spaces\u001b[38;5;241m.\u001b[39mMultiDiscrete,\n\u001b[1;32m    135\u001b[0m             spaces\u001b[38;5;241m.\u001b[39mMultiBinary,\n\u001b[1;32m    136\u001b[0m         ),\n\u001b[1;32m    137\u001b[0m     )\n\u001b[1;32m    139\u001b[0m     \u001b[38;5;28mself\u001b[39m\u001b[38;5;241m.\u001b[39mnormalize_advantage \u001b[38;5;241m=\u001b[39m normalize_advantage\n\u001b[1;32m    140\u001b[0m     \u001b[38;5;66;03m# Sanity check, otherwise it will lead to noisy gradient and NaN\u001b[39;00m\n\u001b[1;32m    141\u001b[0m     \u001b[38;5;66;03m# because of the advantage normalization\u001b[39;00m\n",
      "File \u001b[0;32m/opt/anaconda3/lib/python3.12/site-packages/stable_baselines3/common/on_policy_algorithm.py:86\u001b[0m, in \u001b[0;36mOnPolicyAlgorithm.__init__\u001b[0;34m(self, policy, env, learning_rate, n_steps, gamma, gae_lambda, ent_coef, vf_coef, max_grad_norm, use_sde, sde_sample_freq, rollout_buffer_class, rollout_buffer_kwargs, stats_window_size, tensorboard_log, monitor_wrapper, policy_kwargs, verbose, seed, device, _init_setup_model, supported_action_spaces)\u001b[0m\n\u001b[1;32m     61\u001b[0m \u001b[38;5;28;01mdef\u001b[39;00m \u001b[38;5;21m__init__\u001b[39m(\n\u001b[1;32m     62\u001b[0m     \u001b[38;5;28mself\u001b[39m,\n\u001b[1;32m     63\u001b[0m     policy: Union[\u001b[38;5;28mstr\u001b[39m, Type[ActorCriticPolicy]],\n\u001b[0;32m   (...)\u001b[0m\n\u001b[1;32m     84\u001b[0m     supported_action_spaces: Optional[Tuple[Type[spaces\u001b[38;5;241m.\u001b[39mSpace], \u001b[38;5;241m.\u001b[39m\u001b[38;5;241m.\u001b[39m\u001b[38;5;241m.\u001b[39m]] \u001b[38;5;241m=\u001b[39m \u001b[38;5;28;01mNone\u001b[39;00m,\n\u001b[1;32m     85\u001b[0m ):\n\u001b[0;32m---> 86\u001b[0m     \u001b[38;5;28msuper\u001b[39m()\u001b[38;5;241m.\u001b[39m\u001b[38;5;21m__init__\u001b[39m(\n\u001b[1;32m     87\u001b[0m         policy\u001b[38;5;241m=\u001b[39mpolicy,\n\u001b[1;32m     88\u001b[0m         env\u001b[38;5;241m=\u001b[39menv,\n\u001b[1;32m     89\u001b[0m         learning_rate\u001b[38;5;241m=\u001b[39mlearning_rate,\n\u001b[1;32m     90\u001b[0m         policy_kwargs\u001b[38;5;241m=\u001b[39mpolicy_kwargs,\n\u001b[1;32m     91\u001b[0m         verbose\u001b[38;5;241m=\u001b[39mverbose,\n\u001b[1;32m     92\u001b[0m         device\u001b[38;5;241m=\u001b[39mdevice,\n\u001b[1;32m     93\u001b[0m         use_sde\u001b[38;5;241m=\u001b[39muse_sde,\n\u001b[1;32m     94\u001b[0m         sde_sample_freq\u001b[38;5;241m=\u001b[39msde_sample_freq,\n\u001b[1;32m     95\u001b[0m         support_multi_env\u001b[38;5;241m=\u001b[39m\u001b[38;5;28;01mTrue\u001b[39;00m,\n\u001b[1;32m     96\u001b[0m         monitor_wrapper\u001b[38;5;241m=\u001b[39mmonitor_wrapper,\n\u001b[1;32m     97\u001b[0m         seed\u001b[38;5;241m=\u001b[39mseed,\n\u001b[1;32m     98\u001b[0m         stats_window_size\u001b[38;5;241m=\u001b[39mstats_window_size,\n\u001b[1;32m     99\u001b[0m         tensorboard_log\u001b[38;5;241m=\u001b[39mtensorboard_log,\n\u001b[1;32m    100\u001b[0m         supported_action_spaces\u001b[38;5;241m=\u001b[39msupported_action_spaces,\n\u001b[1;32m    101\u001b[0m     )\n\u001b[1;32m    103\u001b[0m     \u001b[38;5;28mself\u001b[39m\u001b[38;5;241m.\u001b[39mn_steps \u001b[38;5;241m=\u001b[39m n_steps\n\u001b[1;32m    104\u001b[0m     \u001b[38;5;28mself\u001b[39m\u001b[38;5;241m.\u001b[39mgamma \u001b[38;5;241m=\u001b[39m gamma\n",
      "File \u001b[0;32m/opt/anaconda3/lib/python3.12/site-packages/stable_baselines3/common/base_class.py:192\u001b[0m, in \u001b[0;36mBaseAlgorithm.__init__\u001b[0;34m(self, policy, env, learning_rate, policy_kwargs, stats_window_size, tensorboard_log, verbose, device, support_multi_env, monitor_wrapper, seed, use_sde, sde_sample_freq, supported_action_spaces)\u001b[0m\n\u001b[1;32m    190\u001b[0m \u001b[38;5;66;03m# Catch common mistake: using MlpPolicy/CnnPolicy instead of MultiInputPolicy\u001b[39;00m\n\u001b[1;32m    191\u001b[0m \u001b[38;5;28;01mif\u001b[39;00m policy \u001b[38;5;129;01min\u001b[39;00m [\u001b[38;5;124m\"\u001b[39m\u001b[38;5;124mMlpPolicy\u001b[39m\u001b[38;5;124m\"\u001b[39m, \u001b[38;5;124m\"\u001b[39m\u001b[38;5;124mCnnPolicy\u001b[39m\u001b[38;5;124m\"\u001b[39m] \u001b[38;5;129;01mand\u001b[39;00m \u001b[38;5;28misinstance\u001b[39m(\u001b[38;5;28mself\u001b[39m\u001b[38;5;241m.\u001b[39mobservation_space, spaces\u001b[38;5;241m.\u001b[39mDict):\n\u001b[0;32m--> 192\u001b[0m     \u001b[38;5;28;01mraise\u001b[39;00m \u001b[38;5;167;01mValueError\u001b[39;00m(\u001b[38;5;124mf\u001b[39m\u001b[38;5;124m\"\u001b[39m\u001b[38;5;124mYou must use `MultiInputPolicy` when working with dict observation space, not \u001b[39m\u001b[38;5;132;01m{\u001b[39;00mpolicy\u001b[38;5;132;01m}\u001b[39;00m\u001b[38;5;124m\"\u001b[39m)\n\u001b[1;32m    194\u001b[0m \u001b[38;5;28;01mif\u001b[39;00m \u001b[38;5;28mself\u001b[39m\u001b[38;5;241m.\u001b[39muse_sde \u001b[38;5;129;01mand\u001b[39;00m \u001b[38;5;129;01mnot\u001b[39;00m \u001b[38;5;28misinstance\u001b[39m(\u001b[38;5;28mself\u001b[39m\u001b[38;5;241m.\u001b[39maction_space, spaces\u001b[38;5;241m.\u001b[39mBox):\n\u001b[1;32m    195\u001b[0m     \u001b[38;5;28;01mraise\u001b[39;00m \u001b[38;5;167;01mValueError\u001b[39;00m(\u001b[38;5;124m\"\u001b[39m\u001b[38;5;124mgeneralized State-Dependent Exploration (gSDE) can only be used with continuous actions.\u001b[39m\u001b[38;5;124m\"\u001b[39m)\n",
      "\u001b[0;31mValueError\u001b[0m: You must use `MultiInputPolicy` when working with dict observation space, not MlpPolicy"
     ]
    }
   ],
   "source": [
    "train_trpo()"
   ]
  },
  {
   "cell_type": "code",
   "execution_count": null,
   "metadata": {},
   "outputs": [],
   "source": []
  }
 ],
 "metadata": {
  "kernelspec": {
   "display_name": "base",
   "language": "python",
   "name": "python3"
  },
  "language_info": {
   "codemirror_mode": {
    "name": "ipython",
    "version": 3
   },
   "file_extension": ".py",
   "mimetype": "text/x-python",
   "name": "python",
   "nbconvert_exporter": "python",
   "pygments_lexer": "ipython3",
   "version": "3.12.4"
  }
 },
 "nbformat": 4,
 "nbformat_minor": 2
}
