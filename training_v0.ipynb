{
 "cells": [
  {
   "cell_type": "code",
   "execution_count": null,
   "metadata": {},
   "outputs": [],
   "source": [
    "import gymnasium as gym\n",
    "from sb3_contrib import TRPO, PPO\n",
    "from stable_baselines3.common.env_util import make_vec_env\n",
    "\n",
    "# Import your custom environment\n",
    "from lv_letter_env import LoveLetterEnv  # Replace with your actual environment"
   ]
  },
  {
   "cell_type": "code",
   "execution_count": null,
   "metadata": {},
   "outputs": [],
   "source": [
    "def train_trpo():\n",
    "    # Create the environment\n",
    "    env = make_vec_env(lambda: LoveLetterEnv(), n_envs=1)\n",
    "\n",
    "    # Initialize the TRPO model\n",
    "    model = TRPO(\n",
    "        \"MlpPolicy\",  # Use a multi-layer perceptron (MLP) policy\n",
    "        env,\n",
    "        verbose=1,    # Enable detailed training output\n",
    "        learning_rate=0.001,  # Adjust learning rate as needed\n",
    "        gamma=0.99,    # Discount factor for long-term rewards\n",
    "    )\n",
    "\n",
    "    # Train the model\n",
    "    model.learn(total_timesteps=100000)  # Adjust the number of timesteps based on computational resources\n",
    "\n",
    "    # Save the model\n",
    "    model.save(\"trpo_love_letter\")\n",
    "\n",
    "    print(\"Training complete. Model saved as 'trpo_love_letter'.\")\n"
   ]
  },
  {
   "cell_type": "code",
   "execution_count": null,
   "metadata": {},
   "outputs": [],
   "source": [
    "def train_ppo():\n",
    "    # Create the environment\n",
    "    env = make_vec_env(lambda: LoveLetterEnv(), n_envs=1)\n",
    "\n",
    "    # Initialize the PPO model\n",
    "    model = PPO(\n",
    "        \"MlpPolicy\",  # Use a multi-layer perceptron (MLP) policy\n",
    "        env,\n",
    "        verbose=1,    # Enable detailed training output\n",
    "        learning_rate=0.0003,  # Default learning rate for PPO\n",
    "        gamma=0.99,    # Discount factor for long-term rewards\n",
    "        n_steps=2048,  # Number of steps to collect before updating the policy\n",
    "        batch_size=64,  # Batch size for training\n",
    "        ent_coef=0.01,  # Encourage exploration with entropy coefficient\n",
    "    )\n",
    "\n",
    "    # Train the model\n",
    "    model.learn(total_timesteps=100000)  # Adjust timesteps as needed\n",
    "\n",
    "    # Save the model\n",
    "    model.save(\"ppo_love_letter\")\n",
    "\n",
    "    print(\"Training complete. Model saved as 'ppo_love_letter'.\")"
   ]
  }
 ],
 "metadata": {
  "kernelspec": {
   "display_name": "dkt",
   "language": "python",
   "name": "python3"
  },
  "language_info": {
   "name": "python",
   "version": "3.9.19"
  }
 },
 "nbformat": 4,
 "nbformat_minor": 2
}
